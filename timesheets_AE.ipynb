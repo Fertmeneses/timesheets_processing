{
 "cells": [
  {
   "cell_type": "code",
   "execution_count": 22,
   "id": "356ec48c-78a6-4f91-af62-106ff76a86a9",
   "metadata": {},
   "outputs": [],
   "source": [
    "import os\n",
    "import pandas as pd\n",
    "import numpy as np\n",
    "from datetime import datetime"
   ]
  },
  {
   "cell_type": "code",
   "execution_count": 77,
   "id": "dd9142de-3b74-4a03-a20b-bad145f6582c",
   "metadata": {},
   "outputs": [],
   "source": [
    "def process_timesheet(\n",
    "    main_path,\n",
    "    file\n",
    "    ):\n",
    "    \"\"\"\n",
    "    Imports a .csv timesheet file, which must have the following columns:\n",
    "    - 'Duration': working time, format '%H:%M:%S'.\n",
    "    - 'Activity': working efficiency, format 'X%'.\n",
    "    The function processes the timesheet, converting 'Duration' into hours\n",
    "    and 'Activity' into percentages. The modified timesheet is exported.\n",
    "    \n",
    "    --- Inputs --- \n",
    "    {main_path} [String]: Path to locate the timesheet file. Do not include\n",
    "    a final '/'.\n",
    "    {file} [String]: File's name, including the .csv extension.\n",
    "\n",
    "    --- Returns ---\n",
    "    Exports the modified timesheet into the {main_path}. The name of the file is:\n",
    "    '{old_name}_hours{total_working_hours}_activity{average_activity}.csv',\n",
    "    where {old_name} is the original {file} input without the .csv extension,\n",
    "    {total_working_hours} is the total amount of worked hours, with one decimal\n",
    "    digit, and {average_activity} is the average activity, weighted by the\n",
    "    corresponding working hours, in [%] units, rounded to the nearest integer.\n",
    "    \"\"\"\n",
    "    # Prepare data and identify time and activity columns:\n",
    "    df = pd.read_csv(main_path+'/'+file)\n",
    "    work_activity = df['Activity']\n",
    "    # Convert work_time into hours:\n",
    "    df['work_hours'] = df['Duration'].apply(\n",
    "        lambda x: (datetime.strptime(x, '%H:%M:%S').hour+\n",
    "                   datetime.strptime(x, '%H:%M:%S').minute/60+\n",
    "                   datetime.strptime(x, '%H:%M:%S').second/3660\n",
    "                  ))\n",
    "    # Convert efficienty into numbers [%]:\n",
    "    df['activity_%'] = df['Activity'].apply(\n",
    "        lambda x: float(x[:-1]))\n",
    "    # Calculate total working time:\n",
    "    total_time_hours = df['work_hours'].sum()\n",
    "    # Calculate average activity:\n",
    "    avg_act = sum(df['activity_%']*df['work_hours']/total_time_hours)\n",
    "    # Create new filename:\n",
    "    new_name = f'_{file[:-4]}_hours{total_time_hours:.1f}_activity{avg_act:.0f}.csv'\n",
    "    df.to_csv(main_path+'/'+new_name, index=False)  "
   ]
  },
  {
   "cell_type": "code",
   "execution_count": 78,
   "id": "662ea683-76ed-40ed-86da-70ffc9ff2501",
   "metadata": {},
   "outputs": [],
   "source": [
    "# Load .csv file:\n",
    "keyword = '_timesheet_'\n",
    "main_path = '/home/meneses/Downloads'\n",
    "files = [file for file in os.listdir(main_path) if\n",
    "        keyword in file and '.csv' in file]\n",
    "for file in files:\n",
    "    process_timesheet(main_path,file)"
   ]
  },
  {
   "cell_type": "code",
   "execution_count": null,
   "id": "74748db4-5df8-443a-9239-ee3455f90d81",
   "metadata": {},
   "outputs": [],
   "source": []
  }
 ],
 "metadata": {
  "kernelspec": {
   "display_name": "py12",
   "language": "python",
   "name": "py12"
  },
  "language_info": {
   "codemirror_mode": {
    "name": "ipython",
    "version": 3
   },
   "file_extension": ".py",
   "mimetype": "text/x-python",
   "name": "python",
   "nbconvert_exporter": "python",
   "pygments_lexer": "ipython3",
   "version": "3.12.7"
  }
 },
 "nbformat": 4,
 "nbformat_minor": 5
}
